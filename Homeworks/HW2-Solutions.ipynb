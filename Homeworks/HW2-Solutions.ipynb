{
 "cells": [
  {
   "cell_type": "markdown",
   "metadata": {},
   "source": [
    "Question 1: Division and Remainders\n",
    "\n",
    "[10 pts] (Code) Write a program that asks the user to enter three integers. Calculate the sum of the first two numbers. Divide the sum by the third number using integer division (//), floating-point division (/), and find the remainder (%). Print the results.\n",
    "\n",
    "[5 pts] (Written) Explain the difference between the //, / and % operators in Python. How would the program behave if the third number were zero?"
   ]
  },
  {
   "cell_type": "code",
   "execution_count": null,
   "metadata": {},
   "outputs": [],
   "source": [
    "number_1 = int(input('Enter the first number: '))\n",
    "number_2 = int(input('Enter the second number: '))\n",
    "number_3 = int(input('Enter the third number: '))\n",
    "\n",
    "integer_division = (number_1 + number_2) // number_3\n",
    "floating_point_division = (number_1 + number_2) / number_3\n",
    "remainder = (number_1 + number_2) % number_3\n",
    "\n",
    "print(\"Integer division:\", integer_division)\n",
    "print(\"Floating-point division (/):\", floating_point_division)\n",
    "print(\"Remainder:\", remainder)"
   ]
  },
  {
   "cell_type": "markdown",
   "metadata": {},
   "source": [
    "Integer Division (//) returns the quotient, rounding down to the nearest integer.\n",
    "Floating-Point Division (/) returns the quotient with decimal precision.\n",
    "Remainder (%) returns the remainder of the division.\n",
    "If the third number is zero, the program would raise a ZeroDivisionError because division by zero is mathematically undefined, and therefore Python cannot perform division for //, / or %. "
   ]
  },
  {
   "cell_type": "markdown",
   "metadata": {},
   "source": [
    "Question 2: Order of Operations\n",
    "\n",
    "Consider the following expression: \n",
    "result = 2 + 3 * 4 - 6 / 2\n",
    "\n",
    "[8 pts] (Code + Written) Without running the code, determine the value of result. Then explain the order of operations that Python follows to evaluate this expression. \n",
    "\n",
    "[7 pts] (Code + Written) How would adding parentheses change the result? \n",
    "Show the output for the following: result = (2 + 3) * (4 - 6) / 2"
   ]
  },
  {
   "cell_type": "code",
   "execution_count": 1,
   "metadata": {},
   "outputs": [
    {
     "name": "stdout",
     "output_type": "stream",
     "text": [
      "11.0\n",
      "-5.0\n"
     ]
    }
   ],
   "source": [
    "result = 2 + 3 * 4 - 6 / 2\n",
    "print(result)\n",
    "\n",
    "result2 = (2 + 3) * (4 - 6) / 2\n",
    "print(result2)\n"
   ]
  },
  {
   "cell_type": "markdown",
   "metadata": {},
   "source": [
    "In the original expression Python will follow PEMDAS for operational precedence i.e. 3 * 4 first, 6 / 2 second, and then + and - resulting in 11.\n",
    "\n",
    "In the second expression the operations inside the parentheses will be evaluated first."
   ]
  },
  {
   "cell_type": "markdown",
   "metadata": {},
   "source": [
    "Question 3: Variable Tracking\n",
    "\n",
    "Given the following variables:\n",
    "x = 5\n",
    "y = 10\n",
    "z = x + y\n",
    "x = z + 1\n",
    "y = x * z\n",
    "\n",
    "[5 pts] (Code) What are the values of x, y, and z after the code runs? Print them. \n",
    "\n",
    "[5 pts] (Written) How does variable storage work and and how can losing track of variables cause bugs in more complex programs? "
   ]
  },
  {
   "cell_type": "code",
   "execution_count": 2,
   "metadata": {},
   "outputs": [
    {
     "name": "stdout",
     "output_type": "stream",
     "text": [
      "16 240 15\n"
     ]
    }
   ],
   "source": [
    "x = 5\n",
    "y = 10\n",
    "z = x + y\n",
    "x = z + 1\n",
    "y = x * z\n",
    "print(x, y, z)"
   ]
  },
  {
   "cell_type": "markdown",
   "metadata": {},
   "source": [
    "Variables can only store one value at a time, so when assigning a new/updated value to a variable, the previous value is lost as it is overwritten. This means that the order in which assignments happen is critical to the final result.\n",
    "\n",
    "Losing track of what each variable represents at different points in the program can lead to logical errors. If you lose track of which variable is being used where, it will be challenging to debug the code."
   ]
  },
  {
   "cell_type": "markdown",
   "metadata": {},
   "source": [
    "Question 4: Unary Operators\n",
    "\n",
    "Given the following Python code:\n",
    "print(-x + y - z)\n",
    "\n",
    "Modify the values of x, y, and z as follows:\n",
    "Set x = 10, y = -5, z = -8\n",
    "Set x = -10, y = -5, z = 0\n",
    "Set x = 0, y = 0, z = -8\n",
    "\n",
    "[10 pts] (Code) For each combination, try predicting the output before running the code. Then compare your results after running. \n",
    "\n",
    "[5 pts] (Written) Explain the role of the unary operator and how it impacts the values of x, y, and z in these calculations. "
   ]
  },
  {
   "cell_type": "code",
   "execution_count": null,
   "metadata": {},
   "outputs": [],
   "source": [
    "x = 10\n",
    "y = -5\n",
    "z = -8\n",
    "print(-x + y - z)\n",
    "\n",
    "x = -10\n",
    "y = -5\n",
    "z = 0\n",
    "print(-x + y - z)\n",
    "\n",
    "x = 0\n",
    "y = 0\n",
    "z = -8\n",
    "print(-x + y - z)"
   ]
  },
  {
   "cell_type": "markdown",
   "metadata": {},
   "source": [
    "The unary operator is used to negate the value of a variable and changes the sign of the number. When x is positive, -x will make it negative. When x is negative, -x will make it positive. When x is 0, the unary operator has no effect."
   ]
  },
  {
   "cell_type": "markdown",
   "metadata": {},
   "source": [
    "Question 5: Arithmetic Operations\n",
    "\n",
    "[15 pts] (Code) First, prompt the user to input one integer and one floating-point number. \n",
    "Then, perform the following operations:\n",
    "\n",
    "Add the two numbers.\n",
    "Subtract the floating-point number from the integer.\n",
    "Multiply the integer by the floating-point number.\n",
    "Divide the floating-point number by the integer.\n",
    "Print the type and result for each operation as an f-string. "
   ]
  },
  {
   "cell_type": "code",
   "execution_count": null,
   "metadata": {},
   "outputs": [],
   "source": [
    "int_num = int(input('Enter an integer: '))\n",
    "float_num = float(input('Enter a floating-point number: '))\n",
    "\n",
    "addition = int_num + float_num\n",
    "subtraction = int_num - float_num\n",
    "multiplication = int_num * float_num\n",
    "division = float_num / int_num\n",
    "\n",
    "print(f\"Addition: {addition} Type: {type(addition)}\") \n",
    "print(f\"Subtraction: {subtraction} Type: {type(subtraction)}\")\n",
    "print(f\"Multiplication: {multiplication} Type: {type(multiplication)}\") \n",
    "print(f\"Division: {division} Type: {type(division)}\") "
   ]
  },
  {
   "cell_type": "markdown",
   "metadata": {},
   "source": [
    "Question 6: .format() Method with Single-Line Strings (Part 1)\n",
    "\n",
    "[7 pts] (Code) Use the .format() method to print the message: \"My name is <your name> and I am <your age> years old.\"\n",
    "\n",
    "[3 pts] (Written) Name up to 3 reasons why using .format() method makes the code more readable compared to concatenating strings with +?\n"
   ]
  },
  {
   "cell_type": "code",
   "execution_count": null,
   "metadata": {},
   "outputs": [],
   "source": [
    "name = \"Elizabeth\"\n",
    "age = 25\n",
    "\n",
    "answer = \"My name is {} and I am {} years old.\".format(name, age)\n",
    "print(answer)"
   ]
  },
  {
   "cell_type": "markdown",
   "metadata": {},
   "source": [
    "3 reasons are the .format() method:\n",
    "- Automatically converts data types. Don't need to use str() for non-string types like numbers. \n",
    "- Maintains structure of statement, reducing errors with spaces and type mismatches.\n",
    "- Handles multiple variables easily to avoid chains of + operators. "
   ]
  },
  {
   "cell_type": "markdown",
   "metadata": {},
   "source": [
    "Question 7: .format() Method with Multi-Line Strings (Part 2)\n",
    "\n",
    "[15 pts] (Code) Write a Python program that asks the user two questions about why they are taking the course and what interests them most about Python. Use a multi-line string with triple quotes to display their answers in the following format:\n",
    "\n",
    "My Course Reflection\n",
    "\n",
    "I'm taking this course because: <user answer>\n",
    "\n",
    "What excites me most about learning Python is: <user answer>\n",
    "\n",
    "[5 pts] (Written) What benefits can you observe from using triple quotes instead of adding \\n at every line?"
   ]
  },
  {
   "cell_type": "markdown",
   "metadata": {},
   "source": []
  },
  {
   "cell_type": "code",
   "execution_count": null,
   "metadata": {},
   "outputs": [],
   "source": [
    "why = input(\"Why are you taking this course? \")\n",
    "interests = input(\"What interests you most about learning Python? \")\n",
    "\n",
    "reflection = '''My Course Reflection\n",
    "\n",
    "I'm taking this course because: {}\n",
    "\n",
    "What excites me most about learning Python is: {}\n",
    "\n",
    "'''.format(why, interests)\n",
    "\n",
    "print(reflection)"
   ]
  },
  {
   "cell_type": "markdown",
   "metadata": {},
   "source": [
    "- Triple quotes improve readability by keeping string layout exactly as it appears in the code.\n",
    "- Repeatedly adding \\n can clutter the code and lead to formatting errors. "
   ]
  }
 ],
 "metadata": {
  "kernelspec": {
   "display_name": "Python (SPR24ENV)",
   "language": "python",
   "name": "spr24env"
  },
  "language_info": {
   "codemirror_mode": {
    "name": "ipython",
    "version": 3
   },
   "file_extension": ".py",
   "mimetype": "text/x-python",
   "name": "python",
   "nbconvert_exporter": "python",
   "pygments_lexer": "ipython3",
   "version": "3.8.18"
  }
 },
 "nbformat": 4,
 "nbformat_minor": 2
}
