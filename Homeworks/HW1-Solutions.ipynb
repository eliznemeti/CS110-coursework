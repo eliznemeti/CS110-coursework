{
 "cells": [
  {
   "cell_type": "markdown",
   "metadata": {},
   "source": [
    "Question 1.\n",
    "\n",
    "Write a program to print 10, 10.0, “10.0”.  \n",
    "Use the type() function to check the type of both.\n",
    "\n",
    "What are the different types of 10 and \"10\"?"
   ]
  },
  {
   "cell_type": "code",
   "execution_count": 1,
   "metadata": {},
   "outputs": [
    {
     "name": "stdout",
     "output_type": "stream",
     "text": [
      "10\n",
      "10.0\n",
      "10\n",
      "<class 'int'>\n",
      "<class 'float'>\n",
      "<class 'str'>\n"
     ]
    }
   ],
   "source": [
    "print(10)\n",
    "print(10.0)\n",
    "print(\"10\")\n",
    "print(type(10))\n",
    "print(type(10.0))\n",
    "print(type(\"10\"))"
   ]
  },
  {
   "cell_type": "markdown",
   "metadata": {},
   "source": [
    "type() returns the type of each object. \n",
    "\n",
    "You see that 10 is an integer (int), 10.0 is a floating-point number (float), and \"10\" is a string (str). "
   ]
  },
  {
   "cell_type": "markdown",
   "metadata": {},
   "source": [
    "Question 2.\n",
    "\n",
    "Print the expression that adds two integers, 5 and 10.\n",
    "Concatenate two strings, '5' and '10', and print the result.\n",
    "\n",
    "What is the difference between adding integers and concatenating strings?"
   ]
  },
  {
   "cell_type": "code",
   "execution_count": null,
   "metadata": {},
   "outputs": [
    {
     "ename": "",
     "evalue": "",
     "output_type": "error",
     "traceback": [
      "\u001b[1;31mRunning cells with 'Python 3.12.2' requires the ipykernel package.\n",
      "\u001b[1;31mRun the following command to install 'ipykernel' into the Python environment. \n",
      "\u001b[1;31mCommand: '/Users/elizabethnemeti/.pyenv/versions/3.12.2/bin/python -m pip install ipykernel -U --force-reinstall'"
     ]
    }
   ],
   "source": [
    "print(5 + 10)\n",
    "print('5' + '10')"
   ]
  },
  {
   "cell_type": "markdown",
   "metadata": {},
   "source": [
    "- Adding integers will perform a mathematical operation. \n",
    "- Concatenating strings joins them together as a single string. This will print '510' because '5' and '10' are treated as text."
   ]
  },
  {
   "cell_type": "markdown",
   "metadata": {},
   "source": [
    "Question 3. \n",
    "\n",
    "Verify if Python will accept the code below. Explain why or why not.  \n",
    "                         ‘100’ + 50 \n",
    "Make changes if needed and print the result.  "
   ]
  },
  {
   "cell_type": "code",
   "execution_count": 14,
   "metadata": {},
   "outputs": [
    {
     "ename": "TypeError",
     "evalue": "can only concatenate str (not \"int\") to str",
     "output_type": "error",
     "traceback": [
      "\u001b[0;31m---------------------------------------------------------------------------\u001b[0m",
      "\u001b[0;31mTypeError\u001b[0m                                 Traceback (most recent call last)",
      "Cell \u001b[0;32mIn[14], line 1\u001b[0m\n\u001b[0;32m----> 1\u001b[0m \u001b[38;5;124;43m'\u001b[39;49m\u001b[38;5;124;43m100\u001b[39;49m\u001b[38;5;124;43m'\u001b[39;49m\u001b[43m \u001b[49m\u001b[38;5;241;43m+\u001b[39;49m\u001b[43m \u001b[49m\u001b[38;5;241;43m50\u001b[39;49m\n",
      "\u001b[0;31mTypeError\u001b[0m: can only concatenate str (not \"int\") to str"
     ]
    }
   ],
   "source": [
    "'100' + 50"
   ]
  },
  {
   "cell_type": "code",
   "execution_count": 15,
   "metadata": {},
   "outputs": [
    {
     "data": {
      "text/plain": [
       "150"
      ]
     },
     "execution_count": 15,
     "metadata": {},
     "output_type": "execute_result"
    }
   ],
   "source": [
    "# Corrected version\n",
    "100+50"
   ]
  },
  {
   "cell_type": "markdown",
   "metadata": {},
   "source": [
    "- You cannot add a string and an integer together in Python. \n",
    "- This will raise a TypeError because Python doesn't know how to combine text and numbers. \n",
    "- Corrected version performs addition with two integers"
   ]
  },
  {
   "cell_type": "markdown",
   "metadata": {},
   "source": [
    "Let x be ‘2’ and y be 100. \n",
    "Find the product of x and y and let the product have a variable name z. \n",
    "Concatenate it with ' is the same as 2x100.'. \n",
    "Make changes if needed and print the result.  "
   ]
  },
  {
   "cell_type": "code",
   "execution_count": 16,
   "metadata": {},
   "outputs": [
    {
     "name": "stdout",
     "output_type": "stream",
     "text": [
      "2222222222222222222222222222222222222222222222222222222222222222222222222222222222222222222222222222\n"
     ]
    }
   ],
   "source": [
    "x = '2'\n",
    "y = 100\n",
    "z = x*y\n",
    "\n",
    "z + ' is the same as 2x100.'\n",
    "print(z)"
   ]
  },
  {
   "cell_type": "markdown",
   "metadata": {},
   "source": [
    "- Multiplying a string by an integer repeats the string that many times. \n",
    "- So here, '2' will repeat 100 times."
   ]
  },
  {
   "cell_type": "code",
   "execution_count": 18,
   "metadata": {},
   "outputs": [
    {
     "name": "stdout",
     "output_type": "stream",
     "text": [
      "200 is the same as 2x100.\n"
     ]
    }
   ],
   "source": [
    "# Corrected version\n",
    "x = 2\n",
    "y = 100\n",
    "z = x*y\n",
    "\n",
    "result = str(z) + ' is the same as 2x100.'\n",
    "print(result)"
   ]
  },
  {
   "cell_type": "markdown",
   "metadata": {},
   "source": [
    "The correct solution converts the integer result (z) to a string using str() so that it can be concatenated with the other string."
   ]
  },
  {
   "cell_type": "markdown",
   "metadata": {},
   "source": [
    "What happens if you try to convert the string 'hello' to an integer? (answer on sheet)"
   ]
  },
  {
   "cell_type": "code",
   "execution_count": 19,
   "metadata": {},
   "outputs": [
    {
     "ename": "ValueError",
     "evalue": "invalid literal for int() with base 10: 'hello'",
     "output_type": "error",
     "traceback": [
      "\u001b[0;31m---------------------------------------------------------------------------\u001b[0m",
      "\u001b[0;31mValueError\u001b[0m                                Traceback (most recent call last)",
      "Cell \u001b[0;32mIn[19], line 1\u001b[0m\n\u001b[0;32m----> 1\u001b[0m \u001b[38;5;28;43mint\u001b[39;49m\u001b[43m(\u001b[49m\u001b[38;5;124;43m'\u001b[39;49m\u001b[38;5;124;43mhello\u001b[39;49m\u001b[38;5;124;43m'\u001b[39;49m\u001b[43m)\u001b[49m\n",
      "\u001b[0;31mValueError\u001b[0m: invalid literal for int() with base 10: 'hello'"
     ]
    }
   ],
   "source": [
    "int('hello')"
   ]
  },
  {
   "cell_type": "markdown",
   "metadata": {},
   "source": [
    "You receive a value error because the int() function can only convert strings that represent valid numbers. "
   ]
  },
  {
   "cell_type": "markdown",
   "metadata": {},
   "source": [
    "Question 4. \n",
    "\n",
    "Assign the value 25 to a variable called age.\n",
    "Print the value of age.\n",
    "Reassign age to a new value of 'twenty-five' (a string).\n",
    "Print the new value and check its type.\n",
    "\n",
    "How does Python handle changes in variable types?"
   ]
  },
  {
   "cell_type": "code",
   "execution_count": null,
   "metadata": {},
   "outputs": [],
   "source": [
    "age = 25\n",
    "print(age)\n",
    "\n",
    "age = 'twenty-five'\n",
    "print(age)\n",
    "print(type(age))"
   ]
  },
  {
   "cell_type": "markdown",
   "metadata": {},
   "source": [
    "- Python handles variables dynamically at runtime unlike other programming languages such as Java or C++ that require variables to stay a specific type once declared. \n",
    "- This flexibility in Python is known as \"dynamic typing\".\n",
    "- Here, age starts as an integer and is then reassigned to a string."
   ]
  },
  {
   "cell_type": "markdown",
   "metadata": {},
   "source": [
    "Question 5. \n",
    "\n",
    "Assign values to three variables a, b, and c in a single line using tuple assignment.\n",
    "Print them in a single line, separated by commas.\n",
    "Print them with custom formatting using the format() method, where a is left-aligned in 10 spaces and b and c are right-aligned in 10 spaces.\n",
    "\n",
    "How does tuple assignment work?"
   ]
  },
  {
   "cell_type": "code",
   "execution_count": 1,
   "metadata": {},
   "outputs": [
    {
     "name": "stdout",
     "output_type": "stream",
     "text": [
      "10 20 30\n",
      "10                 20         30\n"
     ]
    }
   ],
   "source": [
    "a, b, c = 10, 20, 30\n",
    "print(a, b, c)\n",
    "print('{0:<10} {1:>10} {2:>10}'.format(a, b, c))"
   ]
  },
  {
   "cell_type": "markdown",
   "metadata": {},
   "source": [
    "- Tuple assignment allows you to assign multiple variables at once in a single line. \n",
    "- Values are assigned to the variables based on their position. \n",
    "- Here, when writing the values 10, 20, 30, Python will internally create a tuple (even though you don't write the parentheses) and \"unpack\" them when assigning them to each variable.\n",
    "\n",
    "- {} are placeholders in the string where the values of a, b, and c will be inserted\n",
    "- :<10: This tells Python to left-align the value and reserve 10 spaces for it\n",
    "-  :<10: right align\n"
   ]
  },
  {
   "cell_type": "markdown",
   "metadata": {},
   "source": [
    "Question 6. \n",
    "\n",
    "Prompt the user to enter their name.\n",
    "Use \\n to print a greeting on two lines.\n",
    "Additionally, use \\t to print their name indented with a tab.\n",
    "How do control codes like \\n and \\t change the output formatting?"
   ]
  },
  {
   "cell_type": "code",
   "execution_count": null,
   "metadata": {},
   "outputs": [],
   "source": [
    "name = input(\"What is your name: \")\n",
    "print(\"\\nHi there,\\n\\t\" + name + \"!\")"
   ]
  },
  {
   "cell_type": "markdown",
   "metadata": {},
   "source": [
    "\\n adds a new line, while \\t adds a tab (indentation). "
   ]
  },
  {
   "cell_type": "markdown",
   "metadata": {},
   "source": [
    "Question 7. \n",
    "\n",
    "Write a program that asks the user to input two floating-point numbers.  \n",
    "Apply addition, subtraction, multiplication, and division between two numbers.\n",
    "Print the result of each operation after rounding it up to the thousandth place. \n",
    "\n",
    "What happens if the user enters integers instead of decimal numbers? "
   ]
  },
  {
   "cell_type": "code",
   "execution_count": null,
   "metadata": {},
   "outputs": [],
   "source": [
    "number_1 = float(input(\"Enter a floating point number: \"))\n",
    "number_2 = float(input(\"Enter another floating point number: \"))\n",
    "\n",
    "print(\"The sum is:\", round(number_1 + number_2, 3))\n",
    "print(\"The difference:\", round(number_1 - number_2, 3))\n",
    "print(\"The product is:\", round(number_1 * number_2, 3))\n",
    "print(\"The quotient:\", round(number_1 / number_2, 3))"
   ]
  },
  {
   "cell_type": "markdown",
   "metadata": {},
   "source": [
    "If the user enters integers instead of decimal numbers, the program still works because float() converts them to decimals, and the results are rounded to three decimal places.\n",
    "\n",
    "If the integer is 0 the program will raise ZeroDivisionError. "
   ]
  },
  {
   "cell_type": "code",
   "execution_count": null,
   "metadata": {},
   "outputs": [],
   "source": [
    "# How to handle zero\n",
    "\n",
    "if number_2 != 0:   # If the second number is NOT equal to zero continue dividing\n",
    "    print(\"Quotient:\", round(number_1 / number_2, 3))\n",
    "else:               # If the second number IS equal to zero stop to prevent crash\n",
    "    print(\"Quotient is undefined - cannot divide by zero.\")"
   ]
  },
  {
   "cell_type": "markdown",
   "metadata": {},
   "source": [
    "This if statement checks if the second number is 0 before performing division, preventing a ZeroDivisionError."
   ]
  }
 ],
 "metadata": {
  "kernelspec": {
   "display_name": "Python 3",
   "language": "python",
   "name": "python3"
  },
  "language_info": {
   "codemirror_mode": {
    "name": "ipython",
    "version": 3
   },
   "file_extension": ".py",
   "mimetype": "text/x-python",
   "name": "python",
   "nbconvert_exporter": "python",
   "pygments_lexer": "ipython3",
   "version": "3.12.2"
  }
 },
 "nbformat": 4,
 "nbformat_minor": 2
}
