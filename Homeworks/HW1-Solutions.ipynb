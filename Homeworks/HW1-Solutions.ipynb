{
 "cells": [
  {
   "cell_type": "markdown",
   "metadata": {},
   "source": [
    "Question 1.\n",
    "\n",
    "Write a program to print 10, 10.0, “10.0”.  \n",
    "Use the type() function to check the type of both.\n",
    "\n",
    "What are the different types of 10 and \"10\"?"
   ]
  },
  {
   "cell_type": "markdown",
   "metadata": {},
   "source": []
  },
  {
   "cell_type": "code",
   "execution_count": 1,
   "metadata": {},
   "outputs": [
    {
     "name": "stdout",
     "output_type": "stream",
     "text": [
      "10\n",
      "10.0\n",
      "10\n",
      "<class 'int'>\n",
      "<class 'float'>\n",
      "<class 'str'>\n"
     ]
    }
   ],
   "source": [
    "print(10)\n",
    "print(10.0)\n",
    "print(\"10\")\n",
    "print(type(10))\n",
    "print(type(10.0))\n",
    "print(type(\"10\"))"
   ]
  },
  {
   "cell_type": "markdown",
   "metadata": {},
   "source": [
    "10 is integer class, 10.0 is float class, and \"10\" is string class."
   ]
  },
  {
   "cell_type": "markdown",
   "metadata": {},
   "source": [
    "Question 2.\n",
    "\n",
    "Print the expression that adds two integers, 5 and 10.\n",
    "Concatenate two strings, '5' and '10', and print the result.\n",
    "\n",
    "What is the difference between adding integers and concatenating strings?"
   ]
  },
  {
   "cell_type": "code",
   "execution_count": null,
   "metadata": {},
   "outputs": [],
   "source": [
    "print(5 + 10)\n",
    "print('5' + '10')"
   ]
  },
  {
   "cell_type": "markdown",
   "metadata": {},
   "source": [
    "Adding integers will perform a mathematical operation. Adding strings will combine your two separate strings into one string. "
   ]
  },
  {
   "cell_type": "markdown",
   "metadata": {},
   "source": [
    "Question 3. \n",
    "\n",
    "Verify if Python will accept the code below. Explain why or why not.  \n",
    "                         ‘100’ + 50 \n",
    "Make changes if needed and print the result.  "
   ]
  },
  {
   "cell_type": "code",
   "execution_count": 14,
   "metadata": {},
   "outputs": [
    {
     "ename": "TypeError",
     "evalue": "can only concatenate str (not \"int\") to str",
     "output_type": "error",
     "traceback": [
      "\u001b[0;31m---------------------------------------------------------------------------\u001b[0m",
      "\u001b[0;31mTypeError\u001b[0m                                 Traceback (most recent call last)",
      "Cell \u001b[0;32mIn[14], line 1\u001b[0m\n\u001b[0;32m----> 1\u001b[0m \u001b[38;5;124;43m'\u001b[39;49m\u001b[38;5;124;43m100\u001b[39;49m\u001b[38;5;124;43m'\u001b[39;49m\u001b[43m \u001b[49m\u001b[38;5;241;43m+\u001b[39;49m\u001b[43m \u001b[49m\u001b[38;5;241;43m50\u001b[39;49m\n",
      "\u001b[0;31mTypeError\u001b[0m: can only concatenate str (not \"int\") to str"
     ]
    }
   ],
   "source": [
    "'100' + 50"
   ]
  },
  {
   "cell_type": "code",
   "execution_count": 15,
   "metadata": {},
   "outputs": [
    {
     "data": {
      "text/plain": [
       "150"
      ]
     },
     "execution_count": 15,
     "metadata": {},
     "output_type": "execute_result"
    }
   ],
   "source": [
    "# Corrected version\n",
    "100+50"
   ]
  },
  {
   "cell_type": "markdown",
   "metadata": {},
   "source": [
    "You will receive a TypeError trying to add a string and integer."
   ]
  },
  {
   "cell_type": "markdown",
   "metadata": {},
   "source": [
    "Let x be ‘2’ and y be 100. \n",
    "Find the product of x and y and let the product have a variable name z. \n",
    "Concatenate it with ' is the same as 2x100.'. \n",
    "Make changes if needed and print the result.  "
   ]
  },
  {
   "cell_type": "code",
   "execution_count": 16,
   "metadata": {},
   "outputs": [
    {
     "name": "stdout",
     "output_type": "stream",
     "text": [
      "2222222222222222222222222222222222222222222222222222222222222222222222222222222222222222222222222222\n"
     ]
    }
   ],
   "source": [
    "x = '2'\n",
    "y = 100\n",
    "z = x*y\n",
    "\n",
    "z + ' is the same as 2x100.'\n",
    "print(z)"
   ]
  },
  {
   "cell_type": "code",
   "execution_count": 18,
   "metadata": {},
   "outputs": [
    {
     "name": "stdout",
     "output_type": "stream",
     "text": [
      "200 is the same as 2x100.\n"
     ]
    }
   ],
   "source": [
    "# Corrected version\n",
    "x = 2\n",
    "y = 100\n",
    "z = x*y\n",
    "\n",
    "result = str(z) + ' is the same as 2x100.'\n",
    "print(result)"
   ]
  },
  {
   "cell_type": "markdown",
   "metadata": {},
   "source": [
    "What happens if you try to convert the string 'hello' to an integer? (answer on sheet)"
   ]
  },
  {
   "cell_type": "code",
   "execution_count": 19,
   "metadata": {},
   "outputs": [
    {
     "ename": "ValueError",
     "evalue": "invalid literal for int() with base 10: 'hello'",
     "output_type": "error",
     "traceback": [
      "\u001b[0;31m---------------------------------------------------------------------------\u001b[0m",
      "\u001b[0;31mValueError\u001b[0m                                Traceback (most recent call last)",
      "Cell \u001b[0;32mIn[19], line 1\u001b[0m\n\u001b[0;32m----> 1\u001b[0m \u001b[38;5;28;43mint\u001b[39;49m\u001b[43m(\u001b[49m\u001b[38;5;124;43m'\u001b[39;49m\u001b[38;5;124;43mhello\u001b[39;49m\u001b[38;5;124;43m'\u001b[39;49m\u001b[43m)\u001b[49m\n",
      "\u001b[0;31mValueError\u001b[0m: invalid literal for int() with base 10: 'hello'"
     ]
    }
   ],
   "source": [
    "int('hello')"
   ]
  },
  {
   "cell_type": "markdown",
   "metadata": {},
   "source": [
    "You receive a value error because the int() function can only convert strings that represent valid numbers. "
   ]
  },
  {
   "cell_type": "markdown",
   "metadata": {},
   "source": [
    "Question 4. \n",
    "\n",
    "Assign the value 25 to a variable called age.\n",
    "Print the value of age.\n",
    "Reassign age to a new value of 'twenty-five' (a string).\n",
    "Print the new value and check its type.\n",
    "\n",
    "How does Python handle changes in variable types?"
   ]
  },
  {
   "cell_type": "code",
   "execution_count": null,
   "metadata": {},
   "outputs": [],
   "source": [
    "age = 25\n",
    "print(age)\n",
    "\n",
    "age = 'twenty-five'\n",
    "print(age)\n",
    "print(type(age))"
   ]
  },
  {
   "cell_type": "markdown",
   "metadata": {},
   "source": [
    "Python handles variables dynamically at runtime unlike other programming languages such as Java or C++ that require variables to stay a specific type once declared. This flexibility in Python is known as \"dynamic typing\"."
   ]
  },
  {
   "cell_type": "markdown",
   "metadata": {},
   "source": [
    "Question 5. \n",
    "\n",
    "Assign values to three variables a, b, and c in a single line using tuple assignment.\n",
    "Print them in a single line, separated by commas.\n",
    "Print them with custom formatting using the format() method, where a is left-aligned in 10 spaces and b and c are right-aligned in 10 spaces.\n",
    "\n",
    "How does tuple assignment work?"
   ]
  },
  {
   "cell_type": "code",
   "execution_count": null,
   "metadata": {},
   "outputs": [],
   "source": [
    "a, b, c = 10, 20, 30\n",
    "print(a, b, c)\n",
    "print('{0:<10} {1:>10} {2:>10}'.format(a, b, c))"
   ]
  },
  {
   "cell_type": "markdown",
   "metadata": {},
   "source": [
    "Tuple assignment allows you to assign multiple variables at once in a single line. Values are assigned to the variables based on their position. When writing the values 10, 20, 30, Python will internally create a tuple (even though you don't write the parentheses) and \"unpack\" them when assigning them to each variable."
   ]
  },
  {
   "cell_type": "markdown",
   "metadata": {},
   "source": [
    "Question 6. \n",
    "\n",
    "Prompt the user to enter their name.\n",
    "Use \\n to print a greeting on two lines.\n",
    "Additionally, use \\t to print their name indented with a tab.\n",
    "How do control codes like \\n and \\t change the output formatting?"
   ]
  },
  {
   "cell_type": "code",
   "execution_count": null,
   "metadata": {},
   "outputs": [],
   "source": [
    "name = input(\"What is your name: \")\n",
    "print(\"\\nHi there,\\n\\t\" + name + \"!\")"
   ]
  },
  {
   "cell_type": "markdown",
   "metadata": {},
   "source": [
    "\\n is useful for making new lines and \\t is useful for indenting (inserting a tab). "
   ]
  },
  {
   "cell_type": "markdown",
   "metadata": {},
   "source": [
    "Question 7. \n",
    "\n",
    "Write a program that asks the user to input two floating-point numbers.  \n",
    "Apply addition, subtraction, multiplication, and division between two numbers.\n",
    "Print the result of each operation after rounding it up to the thousandth place. \n",
    "\n",
    "What happens if the user enters integers instead of decimal numbers? "
   ]
  },
  {
   "cell_type": "code",
   "execution_count": 20,
   "metadata": {},
   "outputs": [
    {
     "ename": "ValueError",
     "evalue": "could not convert string to float: ''",
     "output_type": "error",
     "traceback": [
      "\u001b[0;31m---------------------------------------------------------------------------\u001b[0m",
      "\u001b[0;31mValueError\u001b[0m                                Traceback (most recent call last)",
      "Cell \u001b[0;32mIn[20], line 1\u001b[0m\n\u001b[0;32m----> 1\u001b[0m number_1 \u001b[38;5;241m=\u001b[39m \u001b[38;5;28;43mfloat\u001b[39;49m\u001b[43m(\u001b[49m\u001b[38;5;28;43minput\u001b[39;49m\u001b[43m(\u001b[49m\u001b[38;5;124;43m\"\u001b[39;49m\u001b[38;5;124;43mEnter a floating point number: \u001b[39;49m\u001b[38;5;124;43m\"\u001b[39;49m\u001b[43m)\u001b[49m\u001b[43m)\u001b[49m\n\u001b[1;32m      2\u001b[0m number_2 \u001b[38;5;241m=\u001b[39m \u001b[38;5;28mfloat\u001b[39m(\u001b[38;5;28minput\u001b[39m(\u001b[38;5;124m\"\u001b[39m\u001b[38;5;124mEnter another floating point number: \u001b[39m\u001b[38;5;124m\"\u001b[39m))\n\u001b[1;32m      4\u001b[0m \u001b[38;5;28mprint\u001b[39m(\u001b[38;5;124m\"\u001b[39m\u001b[38;5;124mThe sum is:\u001b[39m\u001b[38;5;124m\"\u001b[39m, \u001b[38;5;28mround\u001b[39m(number_1 \u001b[38;5;241m+\u001b[39m number_2, \u001b[38;5;241m3\u001b[39m))\n",
      "\u001b[0;31mValueError\u001b[0m: could not convert string to float: ''"
     ]
    }
   ],
   "source": [
    "number_1 = float(input(\"Enter a floating point number: \"))\n",
    "number_2 = float(input(\"Enter another floating point number: \"))\n",
    "\n",
    "print(\"The sum is:\", round(number_1 + number_2, 3))\n",
    "print(\"The difference:\", round(number_1 - number_2, 3))\n",
    "print(\"The product is:\", round(number_1 * number_2, 3))\n",
    "print(\"The quotient:\", round(number_1 / number_2, 3))"
   ]
  },
  {
   "cell_type": "markdown",
   "metadata": {},
   "source": [
    "If the user enters integers instead of decimal numbers, the program still works because float() converts them to decimals, and the results are rounded to three decimal places.\n",
    "\n",
    "If the integer is 0 the program will raise ZeroDivisionError. "
   ]
  },
  {
   "cell_type": "code",
   "execution_count": null,
   "metadata": {},
   "outputs": [],
   "source": [
    "# How to handle zero\n",
    "\n",
    "if number_2 != 0:   # If the second number is NOT equal to zero continue dividing\n",
    "    print(\"Quotient:\", round(number_1 / number_2, 3))\n",
    "else:               # If the second number IS equal to zero stop to prevent crash\n",
    "    print(\"Quotient is undefined - cannot divide by zero.\")"
   ]
  }
 ],
 "metadata": {
  "kernelspec": {
   "display_name": "Python (SPR24ENV)",
   "language": "python",
   "name": "spr24env"
  },
  "language_info": {
   "codemirror_mode": {
    "name": "ipython",
    "version": 3
   },
   "file_extension": ".py",
   "mimetype": "text/x-python",
   "name": "python",
   "nbconvert_exporter": "python",
   "pygments_lexer": "ipython3",
   "version": "3.8.18"
  }
 },
 "nbformat": 4,
 "nbformat_minor": 2
}
