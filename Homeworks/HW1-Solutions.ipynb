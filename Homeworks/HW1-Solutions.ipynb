{
 "cells": [
  {
   "cell_type": "markdown",
   "metadata": {},
   "source": [
    "Print the number 10 and the string \"10\".\n",
    "Use the type() function to check the type of both.\n",
    "\n",
    "What are the different types of 10 and \"10\"?"
   ]
  },
  {
   "cell_type": "markdown",
   "metadata": {},
   "source": []
  },
  {
   "cell_type": "code",
   "execution_count": null,
   "metadata": {},
   "outputs": [],
   "source": [
    "print(10)\n",
    "print(\"10\")\n",
    "print(type(10))\n",
    "print(type(\"10\"))"
   ]
  },
  {
   "cell_type": "markdown",
   "metadata": {},
   "source": [
    "Integer class and string class."
   ]
  },
  {
   "cell_type": "markdown",
   "metadata": {},
   "source": [
    "Add two integers 5 and 10, and print the result.\n",
    "Concatenate two strings '5' and '10', and print the result.\n",
    "\n",
    "What is the difference between adding integers and concatenating strings?"
   ]
  },
  {
   "cell_type": "code",
   "execution_count": null,
   "metadata": {},
   "outputs": [],
   "source": [
    "print(5 + 10)\n",
    "print('5' + '10')"
   ]
  },
  {
   "cell_type": "markdown",
   "metadata": {},
   "source": [
    "Adding integers will perform a mathematical operation. Adding strings will combine your two separate strings into one string. "
   ]
  },
  {
   "cell_type": "markdown",
   "metadata": {},
   "source": [
    "Convert the string '100' into an integer and add 50 to it.\n",
    "Convert the integer 200 into a string and concatenate it with ' is the same as 2x100.'.\n",
    "\n",
    "What happens if you try to convert the string 'hello' to an integer?"
   ]
  },
  {
   "cell_type": "code",
   "execution_count": null,
   "metadata": {},
   "outputs": [],
   "source": [
    "number = int('100') + 50\n",
    "print(number)\n",
    "\n",
    "message = str(200) + ' is the same as 2x100.'\n",
    "print(message)\n",
    "\n",
    "what_happens = int(\"hello\")\n",
    "print(what_happens)"
   ]
  },
  {
   "cell_type": "markdown",
   "metadata": {},
   "source": [
    "You will receive a value error because \"hello\" is not an integer. "
   ]
  },
  {
   "cell_type": "markdown",
   "metadata": {},
   "source": [
    "Assign the value 25 to a variable called age.\n",
    "Print the value of age.\n",
    "Reassign age to a new value of 'twenty-five' (a string).\n",
    "Print the new value and check its type.\n",
    "\n",
    "How does Python handle changes in variable types?"
   ]
  },
  {
   "cell_type": "code",
   "execution_count": null,
   "metadata": {},
   "outputs": [],
   "source": [
    "age = 25\n",
    "print(age)\n",
    "\n",
    "age = 'twenty-five'\n",
    "print(age)\n",
    "print(type(age))"
   ]
  },
  {
   "cell_type": "markdown",
   "metadata": {},
   "source": [
    "Python handles variables dynamically at runtime unlike other programming languages such as Java or C++ that require variables to stay a specific type once declared. This flexibility in Python is known as \"dynamic typing\"."
   ]
  },
  {
   "cell_type": "markdown",
   "metadata": {},
   "source": [
    "Assign values to three variables a, b, and c in a single line using tuple assignment.\n",
    "Print them in a single line, separated by commas.\n",
    "Print them with custom formatting using the format() method, where a is left-aligned in 10 spaces and b and c are right-aligned in 10 spaces.\n",
    "\n",
    "How does tuple assignment work?"
   ]
  },
  {
   "cell_type": "code",
   "execution_count": null,
   "metadata": {},
   "outputs": [],
   "source": [
    "a, b, c = 10, 20, 30\n",
    "print(a, b, c)\n",
    "print('{0:<10} {1:>10} {2:>10}'.format(a, b, c))"
   ]
  },
  {
   "cell_type": "markdown",
   "metadata": {},
   "source": [
    "Tuple assignment allows you to assign multiple variables at once in a single line. Values are assigned to the variables based on their position. When writing the values 10, 20, 30, Python will internally create a tuple (even though you don't write the parentheses) and \"unpack\" them when assigning them to each variable."
   ]
  },
  {
   "cell_type": "markdown",
   "metadata": {},
   "source": [
    "Prompt the user to enter their name.\n",
    "Use \\n to print a greeting on two lines.\n",
    "Additionally, use \\t to print their name indented with a tab.\n",
    "How do control codes like \\n and \\t change the output formatting?"
   ]
  },
  {
   "cell_type": "code",
   "execution_count": null,
   "metadata": {},
   "outputs": [],
   "source": [
    "name = input(\"What is your name: \")\n",
    "print(\"\\nHi there,\\n\\t\" + name + \"!\")"
   ]
  },
  {
   "cell_type": "markdown",
   "metadata": {},
   "source": [
    "\\n is useful for making new lines and \\t is useful for indenting (inserting a tab). "
   ]
  },
  {
   "cell_type": "markdown",
   "metadata": {},
   "source": [
    "Write a program that asks the user to input two numbers. Add these numbers together and print the result. Make sure to convert the input from strings to integers. \n",
    "\n",
    "What happens if the user enters a decimal number instead of an integer?"
   ]
  },
  {
   "cell_type": "code",
   "execution_count": null,
   "metadata": {},
   "outputs": [],
   "source": [
    "number_1 = int(input(\"Enter 1st number: \"))\n",
    "number_2 = int(input(\"Enter 2nd number: \"))\n",
    "print(\"The sum is:\", number_1 + number_2)"
   ]
  },
  {
   "cell_type": "markdown",
   "metadata": {},
   "source": [
    "If you enter a decimal you will receive a Value Error because the int() function expects whole numbers."
   ]
  }
 ],
 "metadata": {
  "kernelspec": {
   "display_name": "Python (SPR24ENV)",
   "language": "python",
   "name": "spr24env"
  },
  "language_info": {
   "codemirror_mode": {
    "name": "ipython",
    "version": 3
   },
   "file_extension": ".py",
   "mimetype": "text/x-python",
   "name": "python",
   "nbconvert_exporter": "python",
   "pygments_lexer": "ipython3",
   "version": "3.8.18"
  }
 },
 "nbformat": 4,
 "nbformat_minor": 2
}
